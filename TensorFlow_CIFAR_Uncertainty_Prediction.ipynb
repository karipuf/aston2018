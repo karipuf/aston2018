{
  "nbformat": 4,
  "nbformat_minor": 0,
  "metadata": {
    "colab": {
      "name": "TensorFlow CIFAR Uncertainty Prediction",
      "version": "0.3.2",
      "views": {},
      "default_view": {},
      "provenance": [
        {
          "file_id": "1u5iOnSPjM9vBv6rS_7vwqUzFU2lNuzqI",
          "timestamp": 1531219059162
        }
      ],
      "collapsed_sections": []
    },
    "kernelspec": {
      "name": "python3",
      "display_name": "Python 3"
    },
    "accelerator": "GPU"
  },
  "cells": [
    {
      "metadata": {
        "id": "vWCfFZ3l-JUf",
        "colab_type": "code",
        "colab": {
          "autoexec": {
            "startup": false,
            "wait_interval": 0
          },
          "base_uri": "https://localhost:8080/",
          "height": 0
        },
        "outputId": "d241013d-8e81-409b-9e24-d2011758ce40",
        "executionInfo": {
          "status": "ok",
          "timestamp": 1531426639435,
          "user_tz": -60,
          "elapsed": 745,
          "user": {
            "displayName": "Wei Lee Woon",
            "photoUrl": "//lh3.googleusercontent.com/-3g0KvNNZlKg/AAAAAAAAAAI/AAAAAAAAAAA/C-BV16NLoPo/s50-c-k-no/photo.jpg",
            "userId": "101559984026932530726"
          }
        }
      },
      "cell_type": "code",
      "source": [
        "import tensorflow as tf\n",
        "import numpy as np\n",
        "import pickle,pdb,sys,itertools,random\n",
        "from sklearn.preprocessing import OneHotEncoder\n",
        "from sklearn.model_selection import train_test_split\n",
        "from google.colab import files\n",
        "import pylab as pl\n",
        "from keras.datasets import cifar10\n",
        "from glob import glob"
      ],
      "execution_count": 14,
      "outputs": []
    },
    {
      "metadata": {
        "id": "PMopSrk8Yfdx",
        "colab_type": "code",
        "colab": {
          "autoexec": {
            "startup": false,
            "wait_interval": 0
          },
          "base_uri": "https://localhost:8080/",
          "height": 0
        },
        "outputId": "331ebed4-69e9-4677-9cba-94f189b5f5f0",
        "executionInfo": {
          "status": "ok",
          "timestamp": 1531430782982,
          "user_tz": -60,
          "elapsed": 2377,
          "user": {
            "displayName": "Wei Lee Woon",
            "photoUrl": "//lh3.googleusercontent.com/-3g0KvNNZlKg/AAAAAAAAAAI/AAAAAAAAAAA/C-BV16NLoPo/s50-c-k-no/photo.jpg",
            "userId": "101559984026932530726"
          }
        }
      },
      "cell_type": "code",
      "source": [
        "try: sess.close()\n",
        "except: pass\n",
        "tf.reset_default_graph()"
      ],
      "execution_count": 81,
      "outputs": []
    },
    {
      "metadata": {
        "id": "vFQOJzs5yF-F",
        "colab_type": "code",
        "colab": {
          "autoexec": {
            "startup": false,
            "wait_interval": 0
          },
          "base_uri": "https://localhost:8080/",
          "height": 0
        },
        "outputId": "dc684ef3-db90-46f6-f428-a5576d36d328",
        "executionInfo": {
          "status": "ok",
          "timestamp": 1531431396443,
          "user_tz": -60,
          "elapsed": 701,
          "user": {
            "displayName": "Wei Lee Woon",
            "photoUrl": "//lh3.googleusercontent.com/-3g0KvNNZlKg/AAAAAAAAAAI/AAAAAAAAAAA/C-BV16NLoPo/s50-c-k-no/photo.jpg",
            "userId": "101559984026932530726"
          }
        }
      },
      "cell_type": "code",
      "source": [
        "#def CreateModel1(nFilts=64,nHidden=512,nClasses=10,dropRate=.2):\n",
        "\n",
        "nFilts=64\n",
        "nHidden=512\n",
        "\n",
        "# Inputs and outputs\n",
        "x=tf.placeholder(tf.float32,[None,32,32,3],name='x')\n",
        "y=tf.placeholder(tf.float32,[None,10],name='y')\n",
        "kp=tf.placeholder(tf.float32,(),name='kp')\n",
        "\n",
        "w1=tf.Variable(tf.truncated_normal([3,3,3,nFilts],stddev=.01),name='w1')\n",
        "a1=tf.nn.conv2d(x,w1,(1,1,1,1),padding='VALID')\n",
        "a1=tf.nn.relu(tf.nn.max_pool(a1,(1,3,3,1),strides=(1,2,2,1),padding='VALID'))\n",
        "a1=tf.nn.dropout(a1,kp,name='a1')\n",
        "\n",
        "w2=tf.Variable(tf.truncated_normal([3,3,3,nFilts*2],stddev=.01),name='w2')\n",
        "a2=tf.nn.conv2d(x,w1,(1,1,1,1),padding='VALID')\n",
        "a2=tf.nn.relu(tf.nn.max_pool(a2,(1,3,3,1),strides=(1,2,2,1),padding='VALID'))\n",
        "a2=tf.nn.dropout(a2,kp,name='a2')\n",
        "\n",
        "# Fully connected layers\n",
        "d=np.prod(a2.get_shape().as_list()[1:])\n",
        "reshaped=tf.reshape(a2,(-1,d))\n",
        "\n",
        "w3=tf.Variable(tf.truncated_normal((d,nHidden),stddev=.01),dtype=tf.float32,name='w3')\n",
        "b3=tf.Variable(tf.zeros(nHidden,),dtype=tf.float32,name='b3')\n",
        "a3=tf.nn.relu(tf.matmul(reshaped,w3)+b3)\n",
        "a3=tf.nn.dropout(a3,kp,name='a3')\n",
        "\n",
        "w4=tf.Variable(tf.truncated_normal((nHidden,10),stddev=.01),dtype=tf.float32,name='w4')\n",
        "b4=tf.Variable(tf.zeros(10,),dtype=tf.float32,name='b4')\n",
        "a4=tf.add(tf.matmul(a3,w4),b4,name='a4')\n",
        "yhat=tf.nn.softmax(a4,name='yhat')"
      ],
      "execution_count": 102,
      "outputs": []
    },
    {
      "metadata": {
        "id": "M9NeDEjG-cib",
        "colab_type": "code",
        "colab": {
          "autoexec": {
            "startup": false,
            "wait_interval": 0
          },
          "base_uri": "https://localhost:8080/",
          "height": 0
        },
        "outputId": "b53a840c-69bf-4a91-f103-bb1f49842ae0",
        "executionInfo": {
          "status": "ok",
          "timestamp": 1531426643020,
          "user_tz": -60,
          "elapsed": 1710,
          "user": {
            "displayName": "Wei Lee Woon",
            "photoUrl": "//lh3.googleusercontent.com/-3g0KvNNZlKg/AAAAAAAAAAI/AAAAAAAAAAA/C-BV16NLoPo/s50-c-k-no/photo.jpg",
            "userId": "101559984026932530726"
          }
        }
      },
      "cell_type": "code",
      "source": [
        "# Creating the datasets\n",
        "\n",
        "(x_train, y_train), (x_test, y_test) = cifar10.load_data()\n",
        "\n",
        "x_train=(x_train/255.)-.5\n",
        "x_test=(x_test/255.)-.5\n",
        "\n",
        "ty=OneHotEncoder().fit_transform(y_train)"
      ],
      "execution_count": 17,
      "outputs": []
    },
    {
      "metadata": {
        "id": "3JIfdhFggSZB",
        "colab_type": "code",
        "colab": {
          "autoexec": {
            "startup": false,
            "wait_interval": 0
          },
          "base_uri": "https://localhost:8080/",
          "height": 2226
        },
        "outputId": "f35de7c4-c57b-4721-8d05-bd5656799f28",
        "executionInfo": {
          "status": "error",
          "timestamp": 1531430801549,
          "user_tz": -60,
          "elapsed": 4154,
          "user": {
            "displayName": "Wei Lee Woon",
            "photoUrl": "//lh3.googleusercontent.com/-3g0KvNNZlKg/AAAAAAAAAAI/AAAAAAAAAAA/C-BV16NLoPo/s50-c-k-no/photo.jpg",
            "userId": "101559984026932530726"
          }
        }
      },
      "cell_type": "code",
      "source": [
        "# Params\n",
        "batchSize=128\n",
        "keepProb=.8\n",
        "learnRate=.0005\n",
        "nIters=10000\n",
        "alpha=.1\n",
        "pVal=.02 # Proportion set aside for validation while training\n",
        "\n",
        "# Adjust regularization\n",
        "alpha=0.0\n",
        "beta=0.0\n",
        "keepProb=.5\n",
        "\n",
        "# curve=tf.gradients(a4,x) <- original... doesn't square the gradients\n",
        "grady=[tf.gradients(a4[:,tmp],x,name='grad'+str(tmp))[0] for tmp in range(10)]\n",
        "curves=[tf.pow(tf.gradients(a4[:,tmp],x)[0],2) for tmp in range(10)]\n",
        "curveloss=1000*tf.reduce_mean(curves)\n",
        "l2loss=tf.nn.l2_loss(w1)+tf.nn.l2_loss(w2)+tf.nn.l2_loss(w3)+tf.nn.l2_loss(b3)+tf.nn.l2_loss(w4)+tf.nn.l2_loss(b4)\n",
        "\n",
        "loss=tf.reduce_mean(tf.nn.softmax_cross_entropy_with_logits(labels=y,logits=a4))+beta*l2loss\n",
        "opt=tf.train.AdamOptimizer(learning_rate=learnRate).minimize((1-alpha)*loss+alpha*curveloss)\n",
        "acc=tf.reduce_mean(tf.cast(tf.equal(tf.argmax(a4,1),tf.argmax(y,1)),tf.float32))\n",
        "\n",
        "try:\n",
        "  sess.close()\n",
        "except:\n",
        "  pass\n",
        "\n",
        "sess=tf.Session()\n",
        "sess.run(tf.global_variables_initializer())\n"
      ],
      "execution_count": 82,
      "outputs": [
        {
          "output_type": "error",
          "ename": "ValueError",
          "evalue": "ignored",
          "traceback": [
            "\u001b[0;31m---------------------------------------------------------------------------\u001b[0m",
            "\u001b[0;31mInvalidArgumentError\u001b[0m                      Traceback (most recent call last)",
            "\u001b[0;32m/usr/local/lib/python3.6/dist-packages/tensorflow/python/framework/ops.py\u001b[0m in \u001b[0;36m_create_c_op\u001b[0;34m(graph, node_def, inputs, control_inputs)\u001b[0m\n\u001b[1;32m   1588\u001b[0m   \u001b[0;32mtry\u001b[0m\u001b[0;34m:\u001b[0m\u001b[0;34m\u001b[0m\u001b[0m\n\u001b[0;32m-> 1589\u001b[0;31m     \u001b[0mc_op\u001b[0m \u001b[0;34m=\u001b[0m \u001b[0mc_api\u001b[0m\u001b[0;34m.\u001b[0m\u001b[0mTF_FinishOperation\u001b[0m\u001b[0;34m(\u001b[0m\u001b[0mop_desc\u001b[0m\u001b[0;34m)\u001b[0m\u001b[0;34m\u001b[0m\u001b[0m\n\u001b[0m\u001b[1;32m   1590\u001b[0m   \u001b[0;32mexcept\u001b[0m \u001b[0merrors\u001b[0m\u001b[0;34m.\u001b[0m\u001b[0mInvalidArgumentError\u001b[0m \u001b[0;32mas\u001b[0m \u001b[0me\u001b[0m\u001b[0;34m:\u001b[0m\u001b[0;34m\u001b[0m\u001b[0m\n",
            "\u001b[0;31mInvalidArgumentError\u001b[0m: Duplicate node name in graph: 'Rank/packed'",
            "\nDuring handling of the above exception, another exception occurred:\n",
            "\u001b[0;31mValueError\u001b[0m                                Traceback (most recent call last)",
            "\u001b[0;32m<ipython-input-82-c2a9ebb33d2a>\u001b[0m in \u001b[0;36m<module>\u001b[0;34m()\u001b[0m\n\u001b[1;32m     14\u001b[0m \u001b[0mgrady\u001b[0m\u001b[0;34m=\u001b[0m\u001b[0;34m[\u001b[0m\u001b[0mtf\u001b[0m\u001b[0;34m.\u001b[0m\u001b[0mgradients\u001b[0m\u001b[0;34m(\u001b[0m\u001b[0ma4\u001b[0m\u001b[0;34m[\u001b[0m\u001b[0;34m:\u001b[0m\u001b[0;34m,\u001b[0m\u001b[0mtmp\u001b[0m\u001b[0;34m]\u001b[0m\u001b[0;34m,\u001b[0m\u001b[0mx\u001b[0m\u001b[0;34m,\u001b[0m\u001b[0mname\u001b[0m\u001b[0;34m=\u001b[0m\u001b[0;34m'grad'\u001b[0m\u001b[0;34m+\u001b[0m\u001b[0mstr\u001b[0m\u001b[0;34m(\u001b[0m\u001b[0mtmp\u001b[0m\u001b[0;34m)\u001b[0m\u001b[0;34m)\u001b[0m\u001b[0;34m[\u001b[0m\u001b[0;36m0\u001b[0m\u001b[0;34m]\u001b[0m \u001b[0;32mfor\u001b[0m \u001b[0mtmp\u001b[0m \u001b[0;32min\u001b[0m \u001b[0mrange\u001b[0m\u001b[0;34m(\u001b[0m\u001b[0;36m10\u001b[0m\u001b[0;34m)\u001b[0m\u001b[0;34m]\u001b[0m\u001b[0;34m\u001b[0m\u001b[0m\n\u001b[1;32m     15\u001b[0m \u001b[0mcurves\u001b[0m\u001b[0;34m=\u001b[0m\u001b[0;34m[\u001b[0m\u001b[0mtf\u001b[0m\u001b[0;34m.\u001b[0m\u001b[0mpow\u001b[0m\u001b[0;34m(\u001b[0m\u001b[0mtf\u001b[0m\u001b[0;34m.\u001b[0m\u001b[0mgradients\u001b[0m\u001b[0;34m(\u001b[0m\u001b[0ma4\u001b[0m\u001b[0;34m[\u001b[0m\u001b[0;34m:\u001b[0m\u001b[0;34m,\u001b[0m\u001b[0mtmp\u001b[0m\u001b[0;34m]\u001b[0m\u001b[0;34m,\u001b[0m\u001b[0mx\u001b[0m\u001b[0;34m)\u001b[0m\u001b[0;34m[\u001b[0m\u001b[0;36m0\u001b[0m\u001b[0;34m]\u001b[0m\u001b[0;34m,\u001b[0m\u001b[0;36m2\u001b[0m\u001b[0;34m)\u001b[0m \u001b[0;32mfor\u001b[0m \u001b[0mtmp\u001b[0m \u001b[0;32min\u001b[0m \u001b[0mrange\u001b[0m\u001b[0;34m(\u001b[0m\u001b[0;36m10\u001b[0m\u001b[0;34m)\u001b[0m\u001b[0;34m]\u001b[0m\u001b[0;34m\u001b[0m\u001b[0m\n\u001b[0;32m---> 16\u001b[0;31m \u001b[0mcurveloss\u001b[0m\u001b[0;34m=\u001b[0m\u001b[0;36m1000\u001b[0m\u001b[0;34m*\u001b[0m\u001b[0mtf\u001b[0m\u001b[0;34m.\u001b[0m\u001b[0mreduce_mean\u001b[0m\u001b[0;34m(\u001b[0m\u001b[0mcurves\u001b[0m\u001b[0;34m)\u001b[0m\u001b[0;34m\u001b[0m\u001b[0m\n\u001b[0m\u001b[1;32m     17\u001b[0m \u001b[0ml2loss\u001b[0m\u001b[0;34m=\u001b[0m\u001b[0mtf\u001b[0m\u001b[0;34m.\u001b[0m\u001b[0mnn\u001b[0m\u001b[0;34m.\u001b[0m\u001b[0ml2_loss\u001b[0m\u001b[0;34m(\u001b[0m\u001b[0mw1\u001b[0m\u001b[0;34m)\u001b[0m\u001b[0;34m+\u001b[0m\u001b[0mtf\u001b[0m\u001b[0;34m.\u001b[0m\u001b[0mnn\u001b[0m\u001b[0;34m.\u001b[0m\u001b[0ml2_loss\u001b[0m\u001b[0;34m(\u001b[0m\u001b[0mw2\u001b[0m\u001b[0;34m)\u001b[0m\u001b[0;34m+\u001b[0m\u001b[0mtf\u001b[0m\u001b[0;34m.\u001b[0m\u001b[0mnn\u001b[0m\u001b[0;34m.\u001b[0m\u001b[0ml2_loss\u001b[0m\u001b[0;34m(\u001b[0m\u001b[0mw3\u001b[0m\u001b[0;34m)\u001b[0m\u001b[0;34m+\u001b[0m\u001b[0mtf\u001b[0m\u001b[0;34m.\u001b[0m\u001b[0mnn\u001b[0m\u001b[0;34m.\u001b[0m\u001b[0ml2_loss\u001b[0m\u001b[0;34m(\u001b[0m\u001b[0mb3\u001b[0m\u001b[0;34m)\u001b[0m\u001b[0;34m+\u001b[0m\u001b[0mtf\u001b[0m\u001b[0;34m.\u001b[0m\u001b[0mnn\u001b[0m\u001b[0;34m.\u001b[0m\u001b[0ml2_loss\u001b[0m\u001b[0;34m(\u001b[0m\u001b[0mw4\u001b[0m\u001b[0;34m)\u001b[0m\u001b[0;34m+\u001b[0m\u001b[0mtf\u001b[0m\u001b[0;34m.\u001b[0m\u001b[0mnn\u001b[0m\u001b[0;34m.\u001b[0m\u001b[0ml2_loss\u001b[0m\u001b[0;34m(\u001b[0m\u001b[0mb4\u001b[0m\u001b[0;34m)\u001b[0m\u001b[0;34m\u001b[0m\u001b[0m\n\u001b[1;32m     18\u001b[0m \u001b[0;34m\u001b[0m\u001b[0m\n",
            "\u001b[0;32m/usr/local/lib/python3.6/dist-packages/tensorflow/python/util/deprecation.py\u001b[0m in \u001b[0;36mnew_func\u001b[0;34m(*args, **kwargs)\u001b[0m\n\u001b[1;32m    430\u001b[0m                 \u001b[0;34m'in a future version'\u001b[0m \u001b[0;32mif\u001b[0m \u001b[0mdate\u001b[0m \u001b[0;32mis\u001b[0m \u001b[0;32mNone\u001b[0m \u001b[0;32melse\u001b[0m \u001b[0;34m(\u001b[0m\u001b[0;34m'after %s'\u001b[0m \u001b[0;34m%\u001b[0m \u001b[0mdate\u001b[0m\u001b[0;34m)\u001b[0m\u001b[0;34m,\u001b[0m\u001b[0;34m\u001b[0m\u001b[0m\n\u001b[1;32m    431\u001b[0m                 instructions)\n\u001b[0;32m--> 432\u001b[0;31m       \u001b[0;32mreturn\u001b[0m \u001b[0mfunc\u001b[0m\u001b[0;34m(\u001b[0m\u001b[0;34m*\u001b[0m\u001b[0margs\u001b[0m\u001b[0;34m,\u001b[0m \u001b[0;34m**\u001b[0m\u001b[0mkwargs\u001b[0m\u001b[0;34m)\u001b[0m\u001b[0;34m\u001b[0m\u001b[0m\n\u001b[0m\u001b[1;32m    433\u001b[0m     return tf_decorator.make_decorator(func, new_func, 'deprecated',\n\u001b[1;32m    434\u001b[0m                                        _add_deprecated_arg_notice_to_docstring(\n",
            "\u001b[0;32m/usr/local/lib/python3.6/dist-packages/tensorflow/python/ops/math_ops.py\u001b[0m in \u001b[0;36mreduce_mean\u001b[0;34m(input_tensor, axis, keepdims, name, reduction_indices, keep_dims)\u001b[0m\n\u001b[1;32m   1449\u001b[0m                                    \u001b[0minput_tensor\u001b[0m\u001b[0;34m,\u001b[0m\u001b[0;34m\u001b[0m\u001b[0m\n\u001b[1;32m   1450\u001b[0m                                    _ReductionDims(input_tensor, axis,\n\u001b[0;32m-> 1451\u001b[0;31m                                                   reduction_indices),\n\u001b[0m\u001b[1;32m   1452\u001b[0m                                    \u001b[0mkeepdims\u001b[0m\u001b[0;34m,\u001b[0m\u001b[0;34m\u001b[0m\u001b[0m\n\u001b[1;32m   1453\u001b[0m                                    name=name))\n",
            "\u001b[0;32m/usr/local/lib/python3.6/dist-packages/tensorflow/python/ops/math_ops.py\u001b[0m in \u001b[0;36m_ReductionDims\u001b[0;34m(x, axis, reduction_indices)\u001b[0m\n\u001b[1;32m   1231\u001b[0m \u001b[0;34m\u001b[0m\u001b[0m\n\u001b[1;32m   1232\u001b[0m     \u001b[0;31m# Otherwise, we rely on Range and Rank to do the right thing at run-time.\u001b[0m\u001b[0;34m\u001b[0m\u001b[0;34m\u001b[0m\u001b[0m\n\u001b[0;32m-> 1233\u001b[0;31m     \u001b[0;32mreturn\u001b[0m \u001b[0mrange\u001b[0m\u001b[0;34m(\u001b[0m\u001b[0;36m0\u001b[0m\u001b[0;34m,\u001b[0m \u001b[0marray_ops\u001b[0m\u001b[0;34m.\u001b[0m\u001b[0mrank\u001b[0m\u001b[0;34m(\u001b[0m\u001b[0mx\u001b[0m\u001b[0;34m)\u001b[0m\u001b[0;34m)\u001b[0m\u001b[0;34m\u001b[0m\u001b[0m\n\u001b[0m\u001b[1;32m   1234\u001b[0m \u001b[0;34m\u001b[0m\u001b[0m\n\u001b[1;32m   1235\u001b[0m \u001b[0;34m\u001b[0m\u001b[0m\n",
            "\u001b[0;32m/usr/local/lib/python3.6/dist-packages/tensorflow/python/ops/array_ops.py\u001b[0m in \u001b[0;36mrank\u001b[0;34m(input, name)\u001b[0m\n\u001b[1;32m    364\u001b[0m   \u001b[0;34m@\u001b[0m\u001b[0mend_compatibility\u001b[0m\u001b[0;34m\u001b[0m\u001b[0m\n\u001b[1;32m    365\u001b[0m   \"\"\"\n\u001b[0;32m--> 366\u001b[0;31m   \u001b[0;32mreturn\u001b[0m \u001b[0mrank_internal\u001b[0m\u001b[0;34m(\u001b[0m\u001b[0minput\u001b[0m\u001b[0;34m,\u001b[0m \u001b[0mname\u001b[0m\u001b[0;34m,\u001b[0m \u001b[0moptimize\u001b[0m\u001b[0;34m=\u001b[0m\u001b[0;32mTrue\u001b[0m\u001b[0;34m)\u001b[0m\u001b[0;34m\u001b[0m\u001b[0m\n\u001b[0m\u001b[1;32m    367\u001b[0m \u001b[0;34m\u001b[0m\u001b[0m\n\u001b[1;32m    368\u001b[0m \u001b[0;34m\u001b[0m\u001b[0m\n",
            "\u001b[0;32m/usr/local/lib/python3.6/dist-packages/tensorflow/python/ops/array_ops.py\u001b[0m in \u001b[0;36mrank_internal\u001b[0;34m(input, name, optimize)\u001b[0m\n\u001b[1;32m    384\u001b[0m       \u001b[0;32mreturn\u001b[0m \u001b[0mgen_array_ops\u001b[0m\u001b[0;34m.\u001b[0m\u001b[0msize\u001b[0m\u001b[0;34m(\u001b[0m\u001b[0minput\u001b[0m\u001b[0;34m.\u001b[0m\u001b[0mdense_shape\u001b[0m\u001b[0;34m,\u001b[0m \u001b[0mname\u001b[0m\u001b[0;34m=\u001b[0m\u001b[0mname\u001b[0m\u001b[0;34m)\u001b[0m\u001b[0;34m\u001b[0m\u001b[0m\n\u001b[1;32m    385\u001b[0m     \u001b[0;32melse\u001b[0m\u001b[0;34m:\u001b[0m\u001b[0;34m\u001b[0m\u001b[0m\n\u001b[0;32m--> 386\u001b[0;31m       \u001b[0minput_tensor\u001b[0m \u001b[0;34m=\u001b[0m \u001b[0mops\u001b[0m\u001b[0;34m.\u001b[0m\u001b[0mconvert_to_tensor\u001b[0m\u001b[0;34m(\u001b[0m\u001b[0minput\u001b[0m\u001b[0;34m)\u001b[0m\u001b[0;34m\u001b[0m\u001b[0m\n\u001b[0m\u001b[1;32m    387\u001b[0m       \u001b[0minput_shape\u001b[0m \u001b[0;34m=\u001b[0m \u001b[0minput_tensor\u001b[0m\u001b[0;34m.\u001b[0m\u001b[0mget_shape\u001b[0m\u001b[0;34m(\u001b[0m\u001b[0;34m)\u001b[0m\u001b[0;34m\u001b[0m\u001b[0m\n\u001b[1;32m    388\u001b[0m       \u001b[0;32mif\u001b[0m \u001b[0moptimize\u001b[0m \u001b[0;32mand\u001b[0m \u001b[0minput_shape\u001b[0m\u001b[0;34m.\u001b[0m\u001b[0mndims\u001b[0m \u001b[0;32mis\u001b[0m \u001b[0;32mnot\u001b[0m \u001b[0;32mNone\u001b[0m\u001b[0;34m:\u001b[0m\u001b[0;34m\u001b[0m\u001b[0m\n",
            "\u001b[0;32m/usr/local/lib/python3.6/dist-packages/tensorflow/python/framework/ops.py\u001b[0m in \u001b[0;36mconvert_to_tensor\u001b[0;34m(value, dtype, name, preferred_dtype)\u001b[0m\n\u001b[1;32m   1009\u001b[0m       \u001b[0mname\u001b[0m\u001b[0;34m=\u001b[0m\u001b[0mname\u001b[0m\u001b[0;34m,\u001b[0m\u001b[0;34m\u001b[0m\u001b[0m\n\u001b[1;32m   1010\u001b[0m       \u001b[0mpreferred_dtype\u001b[0m\u001b[0;34m=\u001b[0m\u001b[0mpreferred_dtype\u001b[0m\u001b[0;34m,\u001b[0m\u001b[0;34m\u001b[0m\u001b[0m\n\u001b[0;32m-> 1011\u001b[0;31m       as_ref=False)\n\u001b[0m\u001b[1;32m   1012\u001b[0m \u001b[0;34m\u001b[0m\u001b[0m\n\u001b[1;32m   1013\u001b[0m \u001b[0;34m\u001b[0m\u001b[0m\n",
            "\u001b[0;32m/usr/local/lib/python3.6/dist-packages/tensorflow/python/framework/ops.py\u001b[0m in \u001b[0;36minternal_convert_to_tensor\u001b[0;34m(value, dtype, name, as_ref, preferred_dtype, ctx)\u001b[0m\n\u001b[1;32m   1105\u001b[0m \u001b[0;34m\u001b[0m\u001b[0m\n\u001b[1;32m   1106\u001b[0m     \u001b[0;32mif\u001b[0m \u001b[0mret\u001b[0m \u001b[0;32mis\u001b[0m \u001b[0;32mNone\u001b[0m\u001b[0;34m:\u001b[0m\u001b[0;34m\u001b[0m\u001b[0m\n\u001b[0;32m-> 1107\u001b[0;31m       \u001b[0mret\u001b[0m \u001b[0;34m=\u001b[0m \u001b[0mconversion_func\u001b[0m\u001b[0;34m(\u001b[0m\u001b[0mvalue\u001b[0m\u001b[0;34m,\u001b[0m \u001b[0mdtype\u001b[0m\u001b[0;34m=\u001b[0m\u001b[0mdtype\u001b[0m\u001b[0;34m,\u001b[0m \u001b[0mname\u001b[0m\u001b[0;34m=\u001b[0m\u001b[0mname\u001b[0m\u001b[0;34m,\u001b[0m \u001b[0mas_ref\u001b[0m\u001b[0;34m=\u001b[0m\u001b[0mas_ref\u001b[0m\u001b[0;34m)\u001b[0m\u001b[0;34m\u001b[0m\u001b[0m\n\u001b[0m\u001b[1;32m   1108\u001b[0m \u001b[0;34m\u001b[0m\u001b[0m\n\u001b[1;32m   1109\u001b[0m     \u001b[0;32mif\u001b[0m \u001b[0mret\u001b[0m \u001b[0;32mis\u001b[0m \u001b[0mNotImplemented\u001b[0m\u001b[0;34m:\u001b[0m\u001b[0;34m\u001b[0m\u001b[0m\n",
            "\u001b[0;32m/usr/local/lib/python3.6/dist-packages/tensorflow/python/ops/array_ops.py\u001b[0m in \u001b[0;36m_autopacking_conversion_function\u001b[0;34m(v, dtype, name, as_ref)\u001b[0m\n\u001b[1;32m    958\u001b[0m   \u001b[0;32mif\u001b[0m \u001b[0mdtype\u001b[0m \u001b[0;32mis\u001b[0m \u001b[0;32mnot\u001b[0m \u001b[0;32mNone\u001b[0m \u001b[0;32mand\u001b[0m \u001b[0mdtype\u001b[0m \u001b[0;34m!=\u001b[0m \u001b[0minferred_dtype\u001b[0m\u001b[0;34m:\u001b[0m\u001b[0;34m\u001b[0m\u001b[0m\n\u001b[1;32m    959\u001b[0m     \u001b[0;32mreturn\u001b[0m \u001b[0mNotImplemented\u001b[0m\u001b[0;34m\u001b[0m\u001b[0m\n\u001b[0;32m--> 960\u001b[0;31m   \u001b[0;32mreturn\u001b[0m \u001b[0m_autopacking_helper\u001b[0m\u001b[0;34m(\u001b[0m\u001b[0mv\u001b[0m\u001b[0;34m,\u001b[0m \u001b[0minferred_dtype\u001b[0m\u001b[0;34m,\u001b[0m \u001b[0mname\u001b[0m \u001b[0;32mor\u001b[0m \u001b[0;34m\"packed\"\u001b[0m\u001b[0;34m)\u001b[0m\u001b[0;34m\u001b[0m\u001b[0m\n\u001b[0m\u001b[1;32m    961\u001b[0m \u001b[0;34m\u001b[0m\u001b[0m\n\u001b[1;32m    962\u001b[0m \u001b[0;34m\u001b[0m\u001b[0m\n",
            "\u001b[0;32m/usr/local/lib/python3.6/dist-packages/tensorflow/python/ops/array_ops.py\u001b[0m in \u001b[0;36m_autopacking_helper\u001b[0;34m(list_or_tuple, dtype, name)\u001b[0m\n\u001b[1;32m    921\u001b[0m           elems_as_tensors.append(\n\u001b[1;32m    922\u001b[0m               constant_op.constant(elem, dtype=dtype, name=str(i)))\n\u001b[0;32m--> 923\u001b[0;31m       \u001b[0;32mreturn\u001b[0m \u001b[0mgen_array_ops\u001b[0m\u001b[0;34m.\u001b[0m\u001b[0mpack\u001b[0m\u001b[0;34m(\u001b[0m\u001b[0melems_as_tensors\u001b[0m\u001b[0;34m,\u001b[0m \u001b[0mname\u001b[0m\u001b[0;34m=\u001b[0m\u001b[0mscope\u001b[0m\u001b[0;34m)\u001b[0m\u001b[0;34m\u001b[0m\u001b[0m\n\u001b[0m\u001b[1;32m    924\u001b[0m     \u001b[0;32melse\u001b[0m\u001b[0;34m:\u001b[0m\u001b[0;34m\u001b[0m\u001b[0m\n\u001b[1;32m    925\u001b[0m       \u001b[0;32mreturn\u001b[0m \u001b[0mconverted_elems\u001b[0m\u001b[0;34m\u001b[0m\u001b[0m\n",
            "\u001b[0;32m/usr/local/lib/python3.6/dist-packages/tensorflow/python/ops/gen_array_ops.py\u001b[0m in \u001b[0;36mpack\u001b[0;34m(values, axis, name)\u001b[0m\n\u001b[1;32m   4591\u001b[0m     \u001b[0maxis\u001b[0m \u001b[0;34m=\u001b[0m \u001b[0m_execute\u001b[0m\u001b[0;34m.\u001b[0m\u001b[0mmake_int\u001b[0m\u001b[0;34m(\u001b[0m\u001b[0maxis\u001b[0m\u001b[0;34m,\u001b[0m \u001b[0;34m\"axis\"\u001b[0m\u001b[0;34m)\u001b[0m\u001b[0;34m\u001b[0m\u001b[0m\n\u001b[1;32m   4592\u001b[0m     _, _, _op = _op_def_lib._apply_op_helper(\n\u001b[0;32m-> 4593\u001b[0;31m         \"Pack\", values=values, axis=axis, name=name)\n\u001b[0m\u001b[1;32m   4594\u001b[0m     \u001b[0m_result\u001b[0m \u001b[0;34m=\u001b[0m \u001b[0m_op\u001b[0m\u001b[0;34m.\u001b[0m\u001b[0moutputs\u001b[0m\u001b[0;34m[\u001b[0m\u001b[0;34m:\u001b[0m\u001b[0;34m]\u001b[0m\u001b[0;34m\u001b[0m\u001b[0m\n\u001b[1;32m   4595\u001b[0m     \u001b[0m_inputs_flat\u001b[0m \u001b[0;34m=\u001b[0m \u001b[0m_op\u001b[0m\u001b[0;34m.\u001b[0m\u001b[0minputs\u001b[0m\u001b[0;34m\u001b[0m\u001b[0m\n",
            "\u001b[0;32m/usr/local/lib/python3.6/dist-packages/tensorflow/python/framework/op_def_library.py\u001b[0m in \u001b[0;36m_apply_op_helper\u001b[0;34m(self, op_type_name, name, **keywords)\u001b[0m\n\u001b[1;32m    785\u001b[0m         op = g.create_op(op_type_name, inputs, output_types, name=scope,\n\u001b[1;32m    786\u001b[0m                          \u001b[0minput_types\u001b[0m\u001b[0;34m=\u001b[0m\u001b[0minput_types\u001b[0m\u001b[0;34m,\u001b[0m \u001b[0mattrs\u001b[0m\u001b[0;34m=\u001b[0m\u001b[0mattr_protos\u001b[0m\u001b[0;34m,\u001b[0m\u001b[0;34m\u001b[0m\u001b[0m\n\u001b[0;32m--> 787\u001b[0;31m                          op_def=op_def)\n\u001b[0m\u001b[1;32m    788\u001b[0m       \u001b[0;32mreturn\u001b[0m \u001b[0moutput_structure\u001b[0m\u001b[0;34m,\u001b[0m \u001b[0mop_def\u001b[0m\u001b[0;34m.\u001b[0m\u001b[0mis_stateful\u001b[0m\u001b[0;34m,\u001b[0m \u001b[0mop\u001b[0m\u001b[0;34m\u001b[0m\u001b[0m\n\u001b[1;32m    789\u001b[0m \u001b[0;34m\u001b[0m\u001b[0m\n",
            "\u001b[0;32m/usr/local/lib/python3.6/dist-packages/tensorflow/python/framework/ops.py\u001b[0m in \u001b[0;36mcreate_op\u001b[0;34m(self, op_type, inputs, dtypes, input_types, name, attrs, op_def, compute_shapes, compute_device)\u001b[0m\n\u001b[1;32m   3412\u001b[0m           \u001b[0minput_types\u001b[0m\u001b[0;34m=\u001b[0m\u001b[0minput_types\u001b[0m\u001b[0;34m,\u001b[0m\u001b[0;34m\u001b[0m\u001b[0m\n\u001b[1;32m   3413\u001b[0m           \u001b[0moriginal_op\u001b[0m\u001b[0;34m=\u001b[0m\u001b[0mself\u001b[0m\u001b[0;34m.\u001b[0m\u001b[0m_default_original_op\u001b[0m\u001b[0;34m,\u001b[0m\u001b[0;34m\u001b[0m\u001b[0m\n\u001b[0;32m-> 3414\u001b[0;31m           op_def=op_def)\n\u001b[0m\u001b[1;32m   3415\u001b[0m \u001b[0;34m\u001b[0m\u001b[0m\n\u001b[1;32m   3416\u001b[0m       \u001b[0;31m# Note: shapes are lazily computed with the C API enabled.\u001b[0m\u001b[0;34m\u001b[0m\u001b[0;34m\u001b[0m\u001b[0m\n",
            "\u001b[0;32m/usr/local/lib/python3.6/dist-packages/tensorflow/python/framework/ops.py\u001b[0m in \u001b[0;36m__init__\u001b[0;34m(self, node_def, g, inputs, output_types, control_inputs, input_types, original_op, op_def)\u001b[0m\n\u001b[1;32m   1754\u001b[0m           op_def, inputs, node_def.attr)\n\u001b[1;32m   1755\u001b[0m       self._c_op = _create_c_op(self._graph, node_def, grouped_inputs,\n\u001b[0;32m-> 1756\u001b[0;31m                                 control_input_ops)\n\u001b[0m\u001b[1;32m   1757\u001b[0m     \u001b[0;32melse\u001b[0m\u001b[0;34m:\u001b[0m\u001b[0;34m\u001b[0m\u001b[0m\n\u001b[1;32m   1758\u001b[0m       \u001b[0mself\u001b[0m\u001b[0;34m.\u001b[0m\u001b[0m_c_op\u001b[0m \u001b[0;34m=\u001b[0m \u001b[0;32mNone\u001b[0m\u001b[0;34m\u001b[0m\u001b[0m\n",
            "\u001b[0;32m/usr/local/lib/python3.6/dist-packages/tensorflow/python/framework/ops.py\u001b[0m in \u001b[0;36m_create_c_op\u001b[0;34m(graph, node_def, inputs, control_inputs)\u001b[0m\n\u001b[1;32m   1590\u001b[0m   \u001b[0;32mexcept\u001b[0m \u001b[0merrors\u001b[0m\u001b[0;34m.\u001b[0m\u001b[0mInvalidArgumentError\u001b[0m \u001b[0;32mas\u001b[0m \u001b[0me\u001b[0m\u001b[0;34m:\u001b[0m\u001b[0;34m\u001b[0m\u001b[0m\n\u001b[1;32m   1591\u001b[0m     \u001b[0;31m# Convert to ValueError for backwards compatibility.\u001b[0m\u001b[0;34m\u001b[0m\u001b[0;34m\u001b[0m\u001b[0m\n\u001b[0;32m-> 1592\u001b[0;31m     \u001b[0;32mraise\u001b[0m \u001b[0mValueError\u001b[0m\u001b[0;34m(\u001b[0m\u001b[0mstr\u001b[0m\u001b[0;34m(\u001b[0m\u001b[0me\u001b[0m\u001b[0;34m)\u001b[0m\u001b[0;34m)\u001b[0m\u001b[0;34m\u001b[0m\u001b[0m\n\u001b[0m\u001b[1;32m   1593\u001b[0m \u001b[0;34m\u001b[0m\u001b[0m\n\u001b[1;32m   1594\u001b[0m   \u001b[0;32mreturn\u001b[0m \u001b[0mc_op\u001b[0m\u001b[0;34m\u001b[0m\u001b[0m\n",
            "\u001b[0;31mValueError\u001b[0m: Duplicate node name in graph: 'Rank/packed'"
          ]
        }
      ]
    },
    {
      "metadata": {
        "id": "RrGRS5b8ih7n",
        "colab_type": "code",
        "colab": {
          "autoexec": {
            "startup": false,
            "wait_interval": 0
          },
          "base_uri": "https://localhost:8080/",
          "height": 0
        },
        "outputId": "529256c4-8728-4a9a-d4ed-ac61093e6bfb",
        "executionInfo": {
          "status": "ok",
          "timestamp": 1531426649146,
          "user_tz": -60,
          "elapsed": 1511,
          "user": {
            "displayName": "Wei Lee Woon",
            "photoUrl": "//lh3.googleusercontent.com/-3g0KvNNZlKg/AAAAAAAAAAI/AAAAAAAAAAA/C-BV16NLoPo/s50-c-k-no/photo.jpg",
            "userId": "101559984026932530726"
          }
        }
      },
      "cell_type": "code",
      "source": [
        "# Splitting into training and validation sets\n",
        "\n",
        "validationInstances=np.random.rand(len(x_train))<pVal\n",
        "x_train_=x_train[np.logical_not(validationInstances)]\n",
        "ty_=ty[np.logical_not(validationInstances)].toarray()\n",
        "valSet=x_train[validationInstances]\n",
        "valTy=ty[validationInstances].toarray()"
      ],
      "execution_count": 19,
      "outputs": []
    },
    {
      "metadata": {
        "id": "un1iuM6YY6dH",
        "colab_type": "code",
        "colab": {
          "autoexec": {
            "startup": false,
            "wait_interval": 0
          },
          "base_uri": "https://localhost:8080/",
          "height": 398
        },
        "outputId": "2de5292a-2aa6-4d15-a36b-5f75a522012a",
        "executionInfo": {
          "status": "ok",
          "timestamp": 1531427869498,
          "user_tz": -60,
          "elapsed": 1220213,
          "user": {
            "displayName": "Wei Lee Woon",
            "photoUrl": "//lh3.googleusercontent.com/-3g0KvNNZlKg/AAAAAAAAAAI/AAAAAAAAAAA/C-BV16NLoPo/s50-c-k-no/photo.jpg",
            "userId": "101559984026932530726"
          }
        }
      },
      "cell_type": "code",
      "source": [
        "trainLosses=[]\n",
        "valLosses=[]\n",
        "\n",
        "for count in range(nIters):\n",
        "  \n",
        "  batchidx=np.random.choice(range(len(x_train_)),batchSize)\n",
        "  xbatch=x_train_[batchidx,:,:,:]\n",
        "  ybatch=ty_[batchidx,:]\n",
        "  \n",
        "  _,trainloss,accuracy,closs=sess.run([opt,loss,acc,curveloss],feed_dict={x:xbatch,y:ybatch,kp:keepProb})\n",
        "  \n",
        "  if count % 500==0:\n",
        "    valLoss=sess.run([loss],feed_dict={x:valSet,y:valTy,kp:1.})[0]\n",
        "    valLosses.append(valLoss)\n",
        "    trainLosses.append(trainloss)\n",
        "    print(\"Iteration #\"+str(count)+\", training loss:\"+str(trainloss)+\", accuracy is \"+str(accuracy)+\", and curveLoss=\"+str(closs)+', Validation loss:'+str(valLoss))\n",
        "    \n",
        "print(\"Iteration #\"+str(count)+\", training loss:\"+str(trainloss)+\", accuracy is \"+str(accuracy))\n",
        "#sess.close()"
      ],
      "execution_count": 20,
      "outputs": [
        {
          "output_type": "stream",
          "text": [
            "Iteration #0, training loss:2.302628, accuracy is 0.078125, and curveLoss=8.8767265e-06, Validation loss:2.3003335\n",
            "Iteration #500, training loss:1.441421, accuracy is 0.5078125, and curveLoss=0.78416634, Validation loss:1.339436\n",
            "Iteration #1000, training loss:1.0511813, accuracy is 0.6171875, and curveLoss=1.1660666, Validation loss:1.2332083\n",
            "Iteration #1500, training loss:1.1105077, accuracy is 0.6640625, and curveLoss=1.2621108, Validation loss:1.1675621\n",
            "Iteration #2000, training loss:1.0098342, accuracy is 0.6484375, and curveLoss=1.3586792, Validation loss:1.1211375\n",
            "Iteration #2500, training loss:1.0096327, accuracy is 0.65625, and curveLoss=1.437196, Validation loss:1.0959662\n",
            "Iteration #3000, training loss:0.88050795, accuracy is 0.7265625, and curveLoss=1.4320335, Validation loss:1.0657855\n",
            "Iteration #3500, training loss:0.7907704, accuracy is 0.75, and curveLoss=1.5467838, Validation loss:1.0397956\n",
            "Iteration #4000, training loss:0.8908982, accuracy is 0.703125, and curveLoss=1.5891724, Validation loss:1.034025\n",
            "Iteration #4500, training loss:0.93695664, accuracy is 0.71875, and curveLoss=1.6371614, Validation loss:1.0315099\n",
            "Iteration #5000, training loss:0.8045971, accuracy is 0.7578125, and curveLoss=1.6961519, Validation loss:0.9964524\n",
            "Iteration #5500, training loss:0.7178739, accuracy is 0.7890625, and curveLoss=1.7663748, Validation loss:1.0184693\n",
            "Iteration #6000, training loss:0.68377507, accuracy is 0.8125, and curveLoss=1.8276296, Validation loss:0.9831882\n",
            "Iteration #6500, training loss:0.7647207, accuracy is 0.734375, and curveLoss=1.7760305, Validation loss:0.9820658\n",
            "Iteration #7000, training loss:0.7068986, accuracy is 0.8046875, and curveLoss=1.9072924, Validation loss:0.99723345\n",
            "Iteration #7500, training loss:0.7201399, accuracy is 0.7890625, and curveLoss=1.9933262, Validation loss:0.95547897\n",
            "Iteration #8000, training loss:0.71935177, accuracy is 0.7734375, and curveLoss=1.9892557, Validation loss:0.9468923\n",
            "Iteration #8500, training loss:0.7540091, accuracy is 0.8046875, and curveLoss=2.0148833, Validation loss:0.9490874\n",
            "Iteration #9000, training loss:0.5943738, accuracy is 0.8359375, and curveLoss=2.0901005, Validation loss:0.9366307\n",
            "Iteration #9500, training loss:0.5531992, accuracy is 0.8359375, and curveLoss=2.1271486, Validation loss:0.9454636\n",
            "Iteration #9999, training loss:0.5845064, accuracy is 0.8671875\n"
          ],
          "name": "stdout"
        }
      ]
    },
    {
      "metadata": {
        "id": "_5VDlwergkqt",
        "colab_type": "code",
        "colab": {
          "autoexec": {
            "startup": false,
            "wait_interval": 0
          },
          "base_uri": "https://localhost:8080/",
          "height": 35
        },
        "outputId": "9f409b5c-9d42-4b78-8742-1dbc6142bd08",
        "executionInfo": {
          "status": "ok",
          "timestamp": 1531428128818,
          "user_tz": -60,
          "elapsed": 1996,
          "user": {
            "displayName": "Wei Lee Woon",
            "photoUrl": "//lh3.googleusercontent.com/-3g0KvNNZlKg/AAAAAAAAAAI/AAAAAAAAAAA/C-BV16NLoPo/s50-c-k-no/photo.jpg",
            "userId": "101559984026932530726"
          }
        }
      },
      "cell_type": "code",
      "source": [
        "sampler=pl.rand(len(y_test))<.2\n",
        "\n",
        "testAcc,testCurveLoss=sess.run([acc,curveloss],feed_dict={x:x_test[sampler],y:OneHotEncoder().fit_transform(y_test[sampler]).toarray(),kp:1})\n",
        "print(\"Test accuracy (%):\"+str(testAcc)+\", Test curveLoss:\"+str(testCurveLoss))\n",
        "\n",
        "# Pre-curveloss: 0.7125"
      ],
      "execution_count": 25,
      "outputs": [
        {
          "output_type": "stream",
          "text": [
            "Test accuracy (%):0.697318, Test curveLoss:2.147525\n"
          ],
          "name": "stdout"
        }
      ]
    },
    {
      "metadata": {
        "id": "4vPxzixDmZn8",
        "colab_type": "code",
        "colab": {
          "autoexec": {
            "startup": false,
            "wait_interval": 0
          },
          "base_uri": "https://localhost:8080/",
          "height": 394
        },
        "outputId": "a6f05536-3df4-4d87-c8a0-826a5512657b",
        "executionInfo": {
          "status": "ok",
          "timestamp": 1531428143145,
          "user_tz": -60,
          "elapsed": 1461,
          "user": {
            "displayName": "Wei Lee Woon",
            "photoUrl": "//lh3.googleusercontent.com/-3g0KvNNZlKg/AAAAAAAAAAI/AAAAAAAAAAA/C-BV16NLoPo/s50-c-k-no/photo.jpg",
            "userId": "101559984026932530726"
          }
        }
      },
      "cell_type": "code",
      "source": [
        "pl.title(\"Alpha:\"+str(alpha)+\", Beta:\"+str(beta)+\", keepProb:\"+str(keepProb)+\", Accuracy(%):\"+str(testAcc)+\", CurveLoss:\"+str(testCurveLoss))\n",
        "pl.plot(range(0,10000,500),trainLosses)\n",
        "pl.plot(range(0,10000,500),valLosses)\n",
        "pl.xlabel('Iteration #')\n",
        "pl.ylabel('Cross entropy loss')\n",
        "pl.legend([\"Training\",\"Validation\"])"
      ],
      "execution_count": 26,
      "outputs": [
        {
          "output_type": "execute_result",
          "data": {
            "text/plain": [
              "<matplotlib.legend.Legend at 0x7f4bf4344c50>"
            ]
          },
          "metadata": {
            "tags": []
          },
          "execution_count": 26
        },
        {
          "output_type": "display_data",
          "data": {
            "image/png": "[encoded data removed]",
            "text/plain": [
              "<matplotlib.figure.Figure at 0x7f4bf4387160>"
            ]
          },
          "metadata": {
            "tags": []
          }
        }
      ]
    },
    {
      "metadata": {
        "id": "sBEIoqjCtQf9",
        "colab_type": "code",
        "colab": {
          "autoexec": {
            "startup": false,
            "wait_interval": 0
          },
          "base_uri": "https://localhost:8080/",
          "height": 35
        },
        "outputId": "a6deebaf-cdbd-4034-809a-e305ca6cf4a4",
        "executionInfo": {
          "status": "ok",
          "timestamp": 1531428547198,
          "user_tz": -60,
          "elapsed": 1847,
          "user": {
            "displayName": "Wei Lee Woon",
            "photoUrl": "//lh3.googleusercontent.com/-3g0KvNNZlKg/AAAAAAAAAAI/AAAAAAAAAAA/C-BV16NLoPo/s50-c-k-no/photo.jpg",
            "userId": "101559984026932530726"
          }
        }
      },
      "cell_type": "code",
      "source": [
        "# Save the model\n",
        "saver=tf.train.Saver()\n",
        "saver.save(sess,\"./\"+\"alpha:\"+str(alpha)+\"-beta:\"+str(beta)+\"-keepProb:\"+str(keepProb))\n",
        "#saver.save(sess,\"./model1\")"
      ],
      "execution_count": 35,
      "outputs": [
        {
          "output_type": "execute_result",
          "data": {
            "text/plain": [
              "'./alpha:0.08-beta:0.0-keepProb:1.0'"
            ]
          },
          "metadata": {
            "tags": []
          },
          "execution_count": 35
        }
      ]
    },
    {
      "metadata": {
        "id": "UDtYe386UUcC",
        "colab_type": "code",
        "colab": {
          "autoexec": {
            "startup": false,
            "wait_interval": 0
          },
          "base_uri": "https://localhost:8080/",
          "height": 458
        },
        "outputId": "b79b010b-1d14-475e-cea2-154cc20cfc7c",
        "executionInfo": {
          "status": "ok",
          "timestamp": 1531432852279,
          "user_tz": -60,
          "elapsed": 127604,
          "user": {
            "displayName": "Wei Lee Woon",
            "photoUrl": "//lh3.googleusercontent.com/-3g0KvNNZlKg/AAAAAAAAAAI/AAAAAAAAAAA/C-BV16NLoPo/s50-c-k-no/photo.jpg",
            "userId": "101559984026932530726"
          }
        }
      },
      "cell_type": "code",
      "source": [
        "files.download(\"model1.data-00000-of-00001\")"
      ],
      "execution_count": 108,
      "outputs": [
        {
          "output_type": "stream",
          "text": [
            "----------------------------------------\n",
            "Exception happened during processing of request from ('::ffff:127.0.0.1', 56386, 0, 0)\n",
            "Traceback (most recent call last):\n",
            "  File \"/usr/lib/python3.6/socketserver.py\", line 317, in _handle_request_noblock\n",
            "    self.process_request(request, client_address)\n",
            "  File \"/usr/lib/python3.6/socketserver.py\", line 348, in process_request\n",
            "    self.finish_request(request, client_address)\n",
            "  File \"/usr/lib/python3.6/socketserver.py\", line 361, in finish_request\n",
            "    self.RequestHandlerClass(request, client_address, self)\n",
            "  File \"/usr/lib/python3.6/socketserver.py\", line 696, in __init__\n",
            "    self.handle()\n",
            "  File \"/usr/lib/python3.6/http/server.py\", line 418, in handle\n",
            "    self.handle_one_request()\n",
            "  File \"/usr/lib/python3.6/http/server.py\", line 406, in handle_one_request\n",
            "    method()\n",
            "  File \"/usr/lib/python3.6/http/server.py\", line 639, in do_GET\n",
            "    self.copyfile(f, self.wfile)\n",
            "  File \"/usr/lib/python3.6/http/server.py\", line 800, in copyfile\n",
            "    shutil.copyfileobj(source, outputfile)\n",
            "  File \"/usr/lib/python3.6/shutil.py\", line 82, in copyfileobj\n",
            "    fdst.write(buf)\n",
            "  File \"/usr/lib/python3.6/socketserver.py\", line 775, in write\n",
            "    self._sock.sendall(b)\n",
            "ConnectionResetError: [Errno 104] Connection reset by peer\n",
            "----------------------------------------\n"
          ],
          "name": "stderr"
        }
      ]
    },
    {
      "metadata": {
        "id": "bHQKAjYkT05n",
        "colab_type": "code",
        "colab": {
          "autoexec": {
            "startup": false,
            "wait_interval": 0
          },
          "base_uri": "https://localhost:8080/",
          "height": 193
        },
        "outputId": "1a42afba-0f0a-4af4-c24a-8165a48e1588",
        "executionInfo": {
          "status": "ok",
          "timestamp": 1531432712823,
          "user_tz": -60,
          "elapsed": 3368,
          "user": {
            "displayName": "Wei Lee Woon",
            "photoUrl": "//lh3.googleusercontent.com/-3g0KvNNZlKg/AAAAAAAAAAI/AAAAAAAAAAA/C-BV16NLoPo/s50-c-k-no/photo.jpg",
            "userId": "101559984026932530726"
          }
        }
      },
      "cell_type": "code",
      "source": [
        "!ls -lh"
      ],
      "execution_count": 107,
      "outputs": [
        {
          "output_type": "stream",
          "text": [
            "total 186M\r\n",
            "-rw-r--r-- 1 root root  74M Jul 12 20:49 alpha:0.08-beta:0.0-keepProb:1.0.data-00000-of-00001\r\n",
            "-rw-r--r-- 1 root root  735 Jul 12 20:49 alpha:0.08-beta:0.0-keepProb:1.0.index\r\n",
            "-rw-r--r-- 1 root root 1.1M Jul 12 20:49 alpha:0.08-beta:0.0-keepProb:1.0.meta\r\n",
            "-rw-r--r-- 1 root root  121 Jul 12 20:49 checkpoint\r\n",
            "drwxr-xr-x 3 root root 4.0K Jul 11 16:53 datalab\r\n",
            "-rw-r--r-- 1 root root  37M Jul 12 21:30 model1 (1).data-00000-of-00001\r\n",
            "-rw-r--r-- 1 root root  74M Jul 12 20:48 model1.data-00000-of-00001\r\n",
            "-rw-r--r-- 1 root root  735 Jul 12 20:48 model1.index\r\n",
            "-rw-r--r-- 1 root root 1.1M Jul 12 20:48 model1.meta\r\n"
          ],
          "name": "stdout"
        }
      ]
    }
  ]
}